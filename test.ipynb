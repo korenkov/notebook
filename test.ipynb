
x = np.linspace(0, 1, 100)
print(x)
