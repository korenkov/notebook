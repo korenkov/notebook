{
 "cells": [
  {
   "cell_type": "code",
   "execution_count": null,
   "metadata": {},
   "outputs": [],
   "source": [
    "from bokeh.plotting import figure, output_notebook, show\n",
    "from bokeh.models import DatetimeTickFormatter, ColumnDataSource\n",
    "from bokeh.palettes import Spectral11\n",
    "import pandas as pd\n",
    "import numpy as np\n",
    "import os\n",
    "\n",
    "# Read data (by column):\n",
    "path = os.path.abspath(os.path.dirname(os.path.dirname('__file__')))\n",
    "file = os.path.join(path, 'weight.csv')\n",
    "\n",
    "data = pd.read_csv(file)\n",
    "t = pd.to_numeric(data['T'])\n",
    "x = pd.to_numeric(data['X'])\n",
    "y = pd.to_numeric(data['Y'])\n",
    "z = pd.to_numeric(data['Z'])\n",
    "\n",
    "ti = np.arange(t[0], t[len(t)-1], 0.0001)\n",
    "ax = np.interp(ti, t, x)\n",
    "ay = np.interp(ti, t, y)\n",
    "az = np.interp(ti, t, z)\n",
    "ar = ax + ay + az\n",
    "\n",
    "\n",
    "#Take data  and present in a graph\n",
    "output_notebook()\n",
    "\n",
    "# Compare init data and interpolated\n",
    "p = figure( plot_width=900, \n",
    "            plot_height=400, \n",
    "            #x_axis_type='datetime',\n",
    "            tools='pan,wheel_zoom,box_zoom,reset,save',\n",
    "            active_scroll='wheel_zoom',\n",
    "            active_drag='pan'\n",
    "            )\n",
    "#p.line(t, x, line_width=3, color=Spectral11[0], legend_label='init')\n",
    "p.line(ti, ax, line_width=1, color=Spectral11[0], legend_label='ax')\n",
    "p.line(ti, ay, line_width=1, color=Spectral11[1], legend_label='ay')\n",
    "p.line(ti, az, line_width=1, color=Spectral11[2], legend_label='az')\n",
    "p.line(ti, ar, line_width=1, color='red', legend_label='result')\n",
    "p.yaxis.axis_label = 'Amplitude'\n",
    "p.xaxis.axis_label = 'Time [ms]'\n",
    "show(p)"
   ]
  },
  {
   "cell_type": "code",
   "execution_count": null,
   "metadata": {},
   "outputs": [],
   "source": [
    "from scipy import integrate\n",
    "\n",
    "vx = integrate.cumtrapz(ax, ti, initial=0)\n",
    "sx = integrate.cumtrapz(vx, ti, initial=0)\n",
    "\n",
    "pv = figure( plot_width=900, \n",
    "            plot_height=400, \n",
    "            #x_axis_type='datetime',\n",
    "            tools='pan,wheel_zoom,box_zoom,reset,save',\n",
    "            active_scroll='wheel_zoom',\n",
    "            active_drag='pan'\n",
    "            )\n",
    "pv.line(ti, ax, line_width=1, color=Spectral11[0], legend_label='a')\n",
    "pv.line(ti, vx, line_width=1, color=Spectral11[1], legend_label='v')\n",
    "pv.line(ti, sx, line_width=3, color=Spectral11[2], legend_label='s')\n",
    "pv.yaxis.axis_label = 'Amplitude'\n",
    "pv.xaxis.axis_label = 'Time [ms]'\n",
    "show(pv)"
   ]
  }
 ],
 "metadata": {
  "kernelspec": {
   "display_name": "Python 3",
   "language": "python",
   "name": "python3"
  },
  "language_info": {
   "codemirror_mode": {
    "name": "ipython",
    "version": 3
   },
   "file_extension": ".py",
   "mimetype": "text/x-python",
   "name": "python",
   "nbconvert_exporter": "python",
   "pygments_lexer": "ipython3",
   "version": "3.5.3"
  }
 },
 "nbformat": 4,
 "nbformat_minor": 4
}
